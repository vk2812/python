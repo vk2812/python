{
  "nbformat": 4,
  "nbformat_minor": 0,
  "metadata": {
    "colab": {
      "name": "assignment data structure.ipynb",
      "provenance": [],
      "collapsed_sections": []
    },
    "kernelspec": {
      "name": "python3",
      "display_name": "Python 3"
    },
    "language_info": {
      "name": "python"
    }
  },
  "cells": [
    {
      "cell_type": "code",
      "source": [
        "Mydata1 = [\"Mango\", True, 7, 8, 9]\n",
        "print(Mydata1)\n",
        "print(len(Mydata1))\n",
        "print(type(Mydata1))"
      ],
      "metadata": {
        "colab": {
          "base_uri": "https://localhost:8080/"
        },
        "id": "fkfKHCm1mvhn",
        "outputId": "007e896d-5bf9-46a0-b5b9-ef2614d47549"
      },
      "execution_count": null,
      "outputs": [
        {
          "output_type": "stream",
          "name": "stdout",
          "text": [
            "['Mango', True, 7, 8, 9]\n",
            "5\n",
            "<class 'list'>\n"
          ]
        }
      ]
    },
    {
      "cell_type": "code",
      "source": [
        "Mydata2 = [1, 5, 7, 9, 3]\n",
        "print(Mydata2)\n",
        "print(len(Mydata2))\n",
        "print(type(Mydata2))"
      ],
      "metadata": {
        "colab": {
          "base_uri": "https://localhost:8080/"
        },
        "id": "2YJ0CdeTn6uT",
        "outputId": "ae818c19-d015-46a3-8972-83967edc999e"
      },
      "execution_count": null,
      "outputs": [
        {
          "output_type": "stream",
          "name": "stdout",
          "text": [
            "[1, 5, 7, 9, 3]\n",
            "5\n",
            "<class 'list'>\n"
          ]
        }
      ]
    },
    {
      "cell_type": "code",
      "source": [
        "Mydata3 = (\"Mango\", 700, 1000, \"Banana\")\n",
        "print(Mydata3)\n",
        "print(len(Mydata3))\n",
        "print(type(Mydata3))"
      ],
      "metadata": {
        "colab": {
          "base_uri": "https://localhost:8080/"
        },
        "id": "3Q7xHPA-odEi",
        "outputId": "f8c6a577-3d47-4d58-d5a9-155516f3583a"
      },
      "execution_count": null,
      "outputs": [
        {
          "output_type": "stream",
          "name": "stdout",
          "text": [
            "('Mango', 700, 1000, 'Banana')\n",
            "4\n",
            "<class 'tuple'>\n"
          ]
        }
      ]
    },
    {
      "cell_type": "code",
      "source": [
        "Mydata4 = {True, False, False}\n",
        "print(Mydata4)\n",
        "print(len(Mydata4))\n",
        "print(type(Mydata4))"
      ],
      "metadata": {
        "colab": {
          "base_uri": "https://localhost:8080/"
        },
        "id": "xWQXE0s1olab",
        "outputId": "06eeefe0-72b4-44ce-c8b8-dde9bf191f52"
      },
      "execution_count": null,
      "outputs": [
        {
          "output_type": "stream",
          "name": "stdout",
          "text": [
            "{False, True}\n",
            "2\n",
            "<class 'set'>\n"
          ]
        }
      ]
    },
    {
      "cell_type": "code",
      "source": [
        "#02.Create and print a list containing 4 elements of different data types and check the length of the list.\n",
        "iplteam = [\"rcb\",\"mi\",\"kkr\",\"dd\"]\n",
        "print(iplteam)\n",
        "print(len(iplteam))\n",
        "print(type(iplteam))"
      ],
      "metadata": {
        "colab": {
          "base_uri": "https://localhost:8080/"
        },
        "id": "47n6rPozp5BD",
        "outputId": "5a3d3037-c0f7-4426-8d4d-fd28a8fdb521"
      },
      "execution_count": null,
      "outputs": [
        {
          "output_type": "stream",
          "name": "stdout",
          "text": [
            "['rcb', 'mi', 'kkr', 'dd']\n",
            "4\n",
            "<class 'list'>\n"
          ]
        }
      ]
    },
    {
      "cell_type": "code",
      "source": [
        "iplteam = (\"rcb\",\"mi\",\"kkr\",\"dd\")\n",
        "print(iplteam)\n",
        "print(len(iplteam))\n",
        "print(type(iplteam))"
      ],
      "metadata": {
        "colab": {
          "base_uri": "https://localhost:8080/"
        },
        "id": "9Yxf_Rxxr07b",
        "outputId": "51aea6ae-c2c5-46f1-fe01-34465e2a29fa"
      },
      "execution_count": null,
      "outputs": [
        {
          "output_type": "stream",
          "name": "stdout",
          "text": [
            "('rcb', 'mi', 'kkr', 'dd')\n",
            "4\n",
            "<class 'tuple'>\n"
          ]
        }
      ]
    },
    {
      "cell_type": "code",
      "source": [
        "iplteam = {\"rcb\",\"mi\",\"kkr\",\"dd\"}\n",
        "print(iplteam)\n",
        "print(len(iplteam))\n",
        "print(type(iplteam))"
      ],
      "metadata": {
        "colab": {
          "base_uri": "https://localhost:8080/"
        },
        "id": "tpkdkJiqr9ay",
        "outputId": "63a912bd-f731-44e0-97e9-4d44b4108811"
      },
      "execution_count": null,
      "outputs": [
        {
          "output_type": "stream",
          "name": "stdout",
          "text": [
            "{'dd', 'mi', 'rcb', 'kkr'}\n",
            "4\n",
            "<class 'set'>\n"
          ]
        }
      ]
    },
    {
      "cell_type": "code",
      "source": [
        "#Create & print a dictionary conataining the following values:\n",
        "thisdict = {\n",
        "\"Employee id\": \"100041\",\n",
        "\"Employee name\": \"Rohan\",\n",
        "\"Country\": \"India\"\n",
        "}\n",
        "print(thisdict)\n",
        "print(thisdict[\"Employee id\"])\n",
        "print(thisdict[\"Employee name\"])\n",
        "print(thisdict[\"Country\"])\n",
        "\n"
      ],
      "metadata": {
        "colab": {
          "base_uri": "https://localhost:8080/"
        },
        "id": "AgHdXaBtsZTq",
        "outputId": "5455b9c6-927b-4c5e-ad2c-d24903353d46"
      },
      "execution_count": null,
      "outputs": [
        {
          "output_type": "stream",
          "name": "stdout",
          "text": [
            "{'Employee id': '100041', 'Employee name': 'Rohan', 'Country': 'India'}\n",
            "100041\n",
            "Rohan\n",
            "India\n"
          ]
        }
      ]
    }
  ]
}