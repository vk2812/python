{
  "nbformat": 4,
  "nbformat_minor": 0,
  "metadata": {
    "colab": {
      "name": "assignment on function.ipynb",
      "provenance": [],
      "collapsed_sections": []
    },
    "kernelspec": {
      "name": "python3",
      "display_name": "Python 3"
    },
    "language_info": {
      "name": "python"
    }
  },
  "cells": [
    {
      "cell_type": "code",
      "execution_count": null,
      "metadata": {
        "id": "SXUknJiVNBjF"
      },
      "outputs": [],
      "source": [
        "#1. Create a function with the name - Myname and print your name inside the function.\n",
        "def my_function():\n",
        " print(\"vinod kulkarni\")\n"
      ]
    },
    {
      "cell_type": "code",
      "source": [
        "#2. Call the above function.\n",
        "def my_function():\n",
        " print(\"vinod kulkarni\")\n",
        "my_function()"
      ],
      "metadata": {
        "colab": {
          "base_uri": "https://localhost:8080/"
        },
        "id": "aeaWroYtOunD",
        "outputId": "4ce66cb0-0163-4193-a464-26e4e5e9cf57"
      },
      "execution_count": null,
      "outputs": [
        {
          "output_type": "stream",
          "name": "stdout",
          "text": [
            "vinod kulkarni\n"
          ]
        }
      ]
    },
    {
      "cell_type": "code",
      "source": [
        "#3. What is the difference between parameter and argument\n"
      ],
      "metadata": {
        "id": "0_xybiCEPM4t"
      },
      "execution_count": null,
      "outputs": []
    },
    {
      "cell_type": "code",
      "source": [
        "#4. Create a function with the name - myfunction\n",
        "  # pass 2 parameters city, state\n",
        "   #pass 2 argumentes -  your city and state name \n",
        "\n",
        "\n",
        "def my_function(fname, lname):\n",
        "  print(fname + \" \" + lname)\n",
        "\n",
        "my_function(\"gulbarga\", \"karnataka\")"
      ],
      "metadata": {
        "colab": {
          "base_uri": "https://localhost:8080/"
        },
        "id": "8QsodzCcSJAk",
        "outputId": "77056fcf-3c6e-4be2-a09b-1828857dd920"
      },
      "execution_count": null,
      "outputs": [
        {
          "output_type": "stream",
          "name": "stdout",
          "text": [
            "gulbarga karnataka\n"
          ]
        }
      ]
    }
  ]
}